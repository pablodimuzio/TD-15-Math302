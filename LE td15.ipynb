{
 "cells": [
  {
   "cell_type": "code",
   "execution_count": 1,
   "id": "bb1a4055-cb8f-474f-b2db-54de8b3ecc74",
   "metadata": {},
   "outputs": [],
   "source": [
    "%display latex\n",
    "load(\"nilpot.sage\")"
   ]
  },
  {
   "cell_type": "markdown",
   "id": "6b5370e9-a0a3-4027-907f-e4c8dea06bdc",
   "metadata": {},
   "source": [
    "# Exo 1"
   ]
  },
  {
   "cell_type": "code",
   "execution_count": 2,
   "id": "7b0be291-2979-4e0f-9dd8-aac2f7da71f7",
   "metadata": {},
   "outputs": [
    {
     "data": {
      "text/html": [
       "<html><script type=\"math/tex; mode=display\">\\newcommand{\\Bold}[1]{\\mathbf{#1}}\\left(\\begin{array}{rrrr}\n",
       "5 & -1 & 0 & 0 \\\\\n",
       "9 & -1 & 0 & 0 \\\\\n",
       "0 & 0 & 7 & -2 \\\\\n",
       "0 & 0 & 12 & -3\n",
       "\\end{array}\\right)</script></html>"
      ],
      "text/latex": [
       "$$\\newcommand{\\Bold}[1]{\\mathbf{#1}}\\left(\\begin{array}{rrrr}\n",
       "5 & -1 & 0 & 0 \\\\\n",
       "9 & -1 & 0 & 0 \\\\\n",
       "0 & 0 & 7 & -2 \\\\\n",
       "0 & 0 & 12 & -3\n",
       "\\end{array}\\right)$$"
      ],
      "text/plain": [
       "[ 5 -1  0  0]\n",
       "[ 9 -1  0  0]\n",
       "[ 0  0  7 -2]\n",
       "[ 0  0 12 -3]"
      ]
     },
     "execution_count": 2,
     "metadata": {},
     "output_type": "execute_result"
    }
   ],
   "source": [
    "B = matrix(QQ,[\n",
    "    [5,-1,0,0],\n",
    "    [9,-1,0,0],\n",
    "    [0,0,7,-2],\n",
    "    [0,0,12,-3]])\n",
    "B   "
   ]
  },
  {
   "cell_type": "code",
   "execution_count": 3,
   "id": "28b0ea2e",
   "metadata": {},
   "outputs": [
    {
     "data": {
      "text/html": [
       "<html><script type=\"math/tex; mode=display\">\\newcommand{\\Bold}[1]{\\mathbf{#1}}(x - 3) \\cdot (x - 1) \\cdot (x - 2)^{2}</script></html>"
      ],
      "text/latex": [
       "$$\\newcommand{\\Bold}[1]{\\mathbf{#1}}(x - 3) \\cdot (x - 1) \\cdot (x - 2)^{2}$$"
      ],
      "text/plain": [
       "(x - 3) * (x - 1) * (x - 2)^2"
      ]
     },
     "execution_count": 3,
     "metadata": {},
     "output_type": "execute_result"
    }
   ],
   "source": [
    "B.fcp()"
   ]
  },
  {
   "cell_type": "code",
   "execution_count": 4,
   "id": "82575598",
   "metadata": {},
   "outputs": [
    {
     "data": {
      "text/html": [
       "<html><script type=\"math/tex; mode=display\">\\newcommand{\\Bold}[1]{\\mathbf{#1}}(x - 3) \\cdot (x - 1) \\cdot (x - 2)^{2}</script></html>"
      ],
      "text/latex": [
       "$$\\newcommand{\\Bold}[1]{\\mathbf{#1}}(x - 3) \\cdot (x - 1) \\cdot (x - 2)^{2}$$"
      ],
      "text/plain": [
       "(x - 3) * (x - 1) * (x - 2)^2"
      ]
     },
     "execution_count": 4,
     "metadata": {},
     "output_type": "execute_result"
    }
   ],
   "source": [
    "factor(B.minpoly())"
   ]
  },
  {
   "cell_type": "code",
   "execution_count": 5,
   "id": "c1c5ebb6",
   "metadata": {},
   "outputs": [
    {
     "data": {
      "text/html": [
       "<html><script type=\"math/tex; mode=display\">\\newcommand{\\Bold}[1]{\\mathbf{#1}}\\left(\\left[\\left(\\begin{array}{rr}\n",
       "2 & 1 \\\\\n",
       "0 & 2\n",
       "\\end{array}\\right)\\right], \\left(\\begin{array}{rr}\n",
       "7 & -2 \\\\\n",
       "12 & -3\n",
       "\\end{array}\\right), \\left(\\begin{array}{rrrr}\n",
       "\\frac{10}{3} & 1 & 0 & 0 \\\\\n",
       "10 & -\\frac{1}{3} & 0 & 0 \\\\\n",
       "0 & 0 & 1 & 0 \\\\\n",
       "0 & 0 & 0 & 1\n",
       "\\end{array}\\right)\\right)</script></html>"
      ],
      "text/latex": [
       "$$\\newcommand{\\Bold}[1]{\\mathbf{#1}}\\left(\\left[\\left(\\begin{array}{rr}\n",
       "2 & 1 \\\\\n",
       "0 & 2\n",
       "\\end{array}\\right)\\right], \\left(\\begin{array}{rr}\n",
       "7 & -2 \\\\\n",
       "12 & -3\n",
       "\\end{array}\\right), \\left(\\begin{array}{rrrr}\n",
       "\\frac{10}{3} & 1 & 0 & 0 \\\\\n",
       "10 & -\\frac{1}{3} & 0 & 0 \\\\\n",
       "0 & 0 & 1 & 0 \\\\\n",
       "0 & 0 & 0 & 1\n",
       "\\end{array}\\right)\\right)$$"
      ],
      "text/plain": [
       "(\n",
       "                 [10/3    1    0    0]\n",
       "                 [  10 -1/3    0    0]\n",
       "[[2 1]  [ 7 -2]  [   0    0    1    0]\n",
       "[0 2]], [12 -3], [   0    0    0    1]\n",
       ")"
      ]
     },
     "execution_count": 5,
     "metadata": {},
     "output_type": "execute_result"
    }
   ],
   "source": [
    "B_boxes_2,B_2, U_B_2 = gabriel_roiter(B,2, block_list = True)\n",
    "B_boxes_2, B_2, U_B_2"
   ]
  },
  {
   "cell_type": "code",
   "execution_count": 6,
   "id": "3d1256e0",
   "metadata": {},
   "outputs": [
    {
     "data": {
      "text/html": [
       "<html><script type=\"math/tex; mode=display\">\\newcommand{\\Bold}[1]{\\mathbf{#1}}\\left(\\left[\\left(\\begin{array}{r}\n",
       "3\n",
       "\\end{array}\\right)\\right], \\left(\\begin{array}{r}\n",
       "1\n",
       "\\end{array}\\right), \\left(\\begin{array}{rr}\n",
       "1 & 1 \\\\\n",
       "2 & 3\n",
       "\\end{array}\\right)\\right)</script></html>"
      ],
      "text/latex": [
       "$$\\newcommand{\\Bold}[1]{\\mathbf{#1}}\\left(\\left[\\left(\\begin{array}{r}\n",
       "3\n",
       "\\end{array}\\right)\\right], \\left(\\begin{array}{r}\n",
       "1\n",
       "\\end{array}\\right), \\left(\\begin{array}{rr}\n",
       "1 & 1 \\\\\n",
       "2 & 3\n",
       "\\end{array}\\right)\\right)$$"
      ],
      "text/plain": [
       "(\n",
       "            [1 1]\n",
       "[[3]], [1], [2 3]\n",
       ")"
      ]
     },
     "execution_count": 6,
     "metadata": {},
     "output_type": "execute_result"
    }
   ],
   "source": [
    "B_boxes_3, B_3, U_B_3 = gabriel_roiter(B_2,3, block_list = True)\n",
    "B_boxes_3, B_3, U_B_3 "
   ]
  },
  {
   "cell_type": "code",
   "execution_count": 7,
   "id": "5fc8983e",
   "metadata": {},
   "outputs": [
    {
     "data": {
      "text/html": [
       "<html><script type=\"math/tex; mode=display\">\\newcommand{\\Bold}[1]{\\mathbf{#1}}()</script></html>"
      ],
      "text/latex": [
       "$$\\newcommand{\\Bold}[1]{\\mathbf{#1}}()$$"
      ],
      "text/plain": [
       "[]"
      ]
     },
     "execution_count": 7,
     "metadata": {},
     "output_type": "execute_result"
    }
   ],
   "source": [
    "R_B = B_3[1:,1:]\n",
    "R_B"
   ]
  },
  {
   "cell_type": "code",
   "execution_count": 8,
   "id": "4b9083ea",
   "metadata": {},
   "outputs": [
    {
     "data": {
      "text/html": [
       "<html><script type=\"math/tex; mode=display\">\\newcommand{\\Bold}[1]{\\mathbf{#1}}\\left(\\left[\\left(\\begin{array}{r}\n",
       "1\n",
       "\\end{array}\\right)\\right], (), \\left(\\begin{array}{r}\n",
       "1\n",
       "\\end{array}\\right)\\right)</script></html>"
      ],
      "text/latex": [
       "$$\\newcommand{\\Bold}[1]{\\mathbf{#1}}\\left(\\left[\\left(\\begin{array}{r}\n",
       "1\n",
       "\\end{array}\\right)\\right], (), \\left(\\begin{array}{r}\n",
       "1\n",
       "\\end{array}\\right)\\right)$$"
      ],
      "text/plain": [
       "([[1]], [], [1])"
      ]
     },
     "execution_count": 8,
     "metadata": {},
     "output_type": "execute_result"
    }
   ],
   "source": [
    "B_boxes_1,B_1, U_B_1 = gabriel_roiter(B_3, 1, block_list = True)\n",
    "B_boxes_1,B_1, U_B_1"
   ]
  },
  {
   "cell_type": "code",
   "execution_count": 9,
   "id": "dc3fc473",
   "metadata": {},
   "outputs": [
    {
     "data": {
      "text/html": [
       "<html><script type=\"math/tex; mode=display\">\\newcommand{\\Bold}[1]{\\mathbf{#1}}\\left(\\begin{array}{rr|r|r}\n",
       "2 & 1 & 0 & 0 \\\\\n",
       "0 & 2 & 0 & 0 \\\\\n",
       "\\hline\n",
       " 0 & 0 & 3 & 0 \\\\\n",
       "\\hline\n",
       " 0 & 0 & 0 & 1\n",
       "\\end{array}\\right)</script></html>"
      ],
      "text/latex": [
       "$$\\newcommand{\\Bold}[1]{\\mathbf{#1}}\\left(\\begin{array}{rr|r|r}\n",
       "2 & 1 & 0 & 0 \\\\\n",
       "0 & 2 & 0 & 0 \\\\\n",
       "\\hline\n",
       " 0 & 0 & 3 & 0 \\\\\n",
       "\\hline\n",
       " 0 & 0 & 0 & 1\n",
       "\\end{array}\\right)$$"
      ],
      "text/plain": [
       "[2 1|0|0]\n",
       "[0 2|0|0]\n",
       "[---+-+-]\n",
       "[0 0|3|0]\n",
       "[---+-+-]\n",
       "[0 0|0|1]"
      ]
     },
     "execution_count": 9,
     "metadata": {},
     "output_type": "execute_result"
    }
   ],
   "source": [
    "B_jordan = matrix_direct_sum( B_boxes_2 + B_boxes_3 + B_boxes_1)\n",
    "B_jordan"
   ]
  },
  {
   "cell_type": "code",
   "execution_count": 11,
   "id": "edb4717e",
   "metadata": {},
   "outputs": [
    {
     "data": {
      "text/html": [
       "<html><script type=\"math/tex; mode=display\">\\newcommand{\\Bold}[1]{\\mathbf{#1}}\\left(\\begin{array}{rrrr}\n",
       "\\frac{10}{3} & 1 & 0 & 0 \\\\\n",
       "10 & -\\frac{1}{3} & 0 & 0 \\\\\n",
       "0 & 0 & 1 & 1 \\\\\n",
       "0 & 0 & 2 & 3\n",
       "\\end{array}\\right)</script></html>"
      ],
      "text/latex": [
       "$$\\newcommand{\\Bold}[1]{\\mathbf{#1}}\\left(\\begin{array}{rrrr}\n",
       "\\frac{10}{3} & 1 & 0 & 0 \\\\\n",
       "10 & -\\frac{1}{3} & 0 & 0 \\\\\n",
       "0 & 0 & 1 & 1 \\\\\n",
       "0 & 0 & 2 & 3\n",
       "\\end{array}\\right)$$"
      ],
      "text/plain": [
       "[10/3    1    0    0]\n",
       "[  10 -1/3    0    0]\n",
       "[   0    0    1    1]\n",
       "[   0    0    2    3]"
      ]
     },
     "execution_count": 11,
     "metadata": {},
     "output_type": "execute_result"
    }
   ],
   "source": [
    "U_B = U_B_2*matrix_direct_sum([I(2), U_B_3])\n",
    "U_B"
   ]
  },
  {
   "cell_type": "code",
   "execution_count": 13,
   "id": "cd8e6c3d",
   "metadata": {},
   "outputs": [
    {
     "data": {
      "text/html": [
       "<html><script type=\"math/tex; mode=display\">\\newcommand{\\Bold}[1]{\\mathbf{#1}}\\mathrm{True}</script></html>"
      ],
      "text/latex": [
       "$$\\newcommand{\\Bold}[1]{\\mathbf{#1}}\\mathrm{True}$$"
      ],
      "text/plain": [
       "True"
      ]
     },
     "execution_count": 13,
     "metadata": {},
     "output_type": "execute_result"
    }
   ],
   "source": [
    "conjugate(B_jordan, U_B) == B"
   ]
  },
  {
   "cell_type": "markdown",
   "id": "4c173412",
   "metadata": {},
   "source": [
    "Partie 2 de l'exercice."
   ]
  },
  {
   "cell_type": "code",
   "execution_count": 14,
   "id": "868ab67f",
   "metadata": {},
   "outputs": [],
   "source": [
    "U_B_cols = U_B.columns()"
   ]
  },
  {
   "cell_type": "code",
   "execution_count": 15,
   "id": "732d0793",
   "metadata": {},
   "outputs": [
    {
     "data": {
      "text/html": [
       "<html><script type=\"math/tex; mode=display\">\\newcommand{\\Bold}[1]{\\mathbf{#1}}\\left(\\left(\\begin{array}{rr}\n",
       "2 & 1 \\\\\n",
       "0 & 2\n",
       "\\end{array}\\right), \\left(\\begin{array}{r}\n",
       "3\n",
       "\\end{array}\\right), \\left(\\begin{array}{r}\n",
       "1\n",
       "\\end{array}\\right)\\right)</script></html>"
      ],
      "text/latex": [
       "$$\\newcommand{\\Bold}[1]{\\mathbf{#1}}\\left(\\left(\\begin{array}{rr}\n",
       "2 & 1 \\\\\n",
       "0 & 2\n",
       "\\end{array}\\right), \\left(\\begin{array}{r}\n",
       "3\n",
       "\\end{array}\\right), \\left(\\begin{array}{r}\n",
       "1\n",
       "\\end{array}\\right)\\right)$$"
      ],
      "text/plain": [
       "(\n",
       "[2 1]          \n",
       "[0 2], [3], [1]\n",
       ")"
      ]
     },
     "execution_count": 15,
     "metadata": {},
     "output_type": "execute_result"
    }
   ],
   "source": [
    "basis_B_2, basis_B_3, basis_B_1 = U_B_cols[:2], U_B_cols[2:3], U_B_cols[3:4]\n",
    "restriction_matrix(B, basis_B_2, basis_B_2), restriction_matrix(B, basis_B_3, basis_B_3), restriction_matrix(B, basis_B_1, basis_B_1)"
   ]
  },
  {
   "cell_type": "code",
   "execution_count": 16,
   "id": "cc42c369-d6f0-42b2-aad3-7804fe4e2d7d",
   "metadata": {},
   "outputs": [
    {
     "data": {
      "text/html": [
       "<html><script type=\"math/tex; mode=display\">\\newcommand{\\Bold}[1]{\\mathbf{#1}}\\left(\\begin{array}{rrrr}\n",
       "1 & -1 & -2 & 3 \\\\\n",
       "0 & 0 & -2 & 3 \\\\\n",
       "0 & 1 & 1 & -1 \\\\\n",
       "0 & 0 & -1 & 2\n",
       "\\end{array}\\right)</script></html>"
      ],
      "text/latex": [
       "$$\\newcommand{\\Bold}[1]{\\mathbf{#1}}\\left(\\begin{array}{rrrr}\n",
       "1 & -1 & -2 & 3 \\\\\n",
       "0 & 0 & -2 & 3 \\\\\n",
       "0 & 1 & 1 & -1 \\\\\n",
       "0 & 0 & -1 & 2\n",
       "\\end{array}\\right)$$"
      ],
      "text/plain": [
       "[ 1 -1 -2  3]\n",
       "[ 0  0 -2  3]\n",
       "[ 0  1  1 -1]\n",
       "[ 0  0 -1  2]"
      ]
     },
     "execution_count": 16,
     "metadata": {},
     "output_type": "execute_result"
    }
   ],
   "source": [
    "C = matrix([\n",
    "    [1,-1,-2,3],\n",
    "    [0,0,-2,3],\n",
    "    [0,1,1,-1],\n",
    "    [0,0,-1,2]])\n",
    "C"
   ]
  },
  {
   "cell_type": "code",
   "execution_count": 17,
   "id": "d51614b6",
   "metadata": {},
   "outputs": [
    {
     "data": {
      "text/html": [
       "<html><script type=\"math/tex; mode=display\">\\newcommand{\\Bold}[1]{\\mathbf{#1}}(x - 1)^{3}</script></html>"
      ],
      "text/latex": [
       "$$\\newcommand{\\Bold}[1]{\\mathbf{#1}}(x - 1)^{3}$$"
      ],
      "text/plain": [
       "(x - 1)^3"
      ]
     },
     "execution_count": 17,
     "metadata": {},
     "output_type": "execute_result"
    }
   ],
   "source": [
    "factor(C.minpoly())"
   ]
  },
  {
   "cell_type": "code",
   "execution_count": 18,
   "id": "62ebbb01",
   "metadata": {},
   "outputs": [
    {
     "data": {
      "text/html": [
       "<html><script type=\"math/tex; mode=display\">\\newcommand{\\Bold}[1]{\\mathbf{#1}}\\left(\\left[\\left(\\begin{array}{rrr}\n",
       "1 & 1 & 0 \\\\\n",
       "0 & 1 & 1 \\\\\n",
       "0 & 0 & 1\n",
       "\\end{array}\\right), \\left(\\begin{array}{r}\n",
       "1\n",
       "\\end{array}\\right)\\right], (), \\left(\\begin{array}{rrrr}\n",
       "-6 & -9 & 0 & 1 \\\\\n",
       "-6 & -9 & 1 & -\\frac{1}{3} \\\\\n",
       "-6 & 3 & 1 & -\\frac{1}{3} \\\\\n",
       "-6 & -3 & -2 & -\\frac{1}{3}\n",
       "\\end{array}\\right)\\right)</script></html>"
      ],
      "text/latex": [
       "$$\\newcommand{\\Bold}[1]{\\mathbf{#1}}\\left(\\left[\\left(\\begin{array}{rrr}\n",
       "1 & 1 & 0 \\\\\n",
       "0 & 1 & 1 \\\\\n",
       "0 & 0 & 1\n",
       "\\end{array}\\right), \\left(\\begin{array}{r}\n",
       "1\n",
       "\\end{array}\\right)\\right], (), \\left(\\begin{array}{rrrr}\n",
       "-6 & -9 & 0 & 1 \\\\\n",
       "-6 & -9 & 1 & -\\frac{1}{3} \\\\\n",
       "-6 & 3 & 1 & -\\frac{1}{3} \\\\\n",
       "-6 & -3 & -2 & -\\frac{1}{3}\n",
       "\\end{array}\\right)\\right)$$"
      ],
      "text/plain": [
       "(\n",
       "                   [  -6   -9    0    1]\n",
       "[[1 1 0]           [  -6   -9    1 -1/3]\n",
       "[0 1 1]            [  -6    3    1 -1/3]\n",
       "[0 0 1], [1]], [], [  -6   -3   -2 -1/3]\n",
       ")"
      ]
     },
     "execution_count": 18,
     "metadata": {},
     "output_type": "execute_result"
    }
   ],
   "source": [
    "C_boxes, C_1, U_C = gabriel_roiter(C,1, block_list = True)\n",
    "C_boxes, C_1, U_C"
   ]
  },
  {
   "cell_type": "code",
   "execution_count": 43,
   "id": "b6b6cb1c",
   "metadata": {},
   "outputs": [
    {
     "data": {
      "text/html": [
       "<html><script type=\"math/tex; mode=display\">\\newcommand{\\Bold}[1]{\\mathbf{#1}}\\left(\\left(\\begin{array}{rrr|r}\n",
       "1 & 1 & 0 & 0 \\\\\n",
       "0 & 1 & 1 & 0 \\\\\n",
       "0 & 0 & 1 & 0 \\\\\n",
       "\\hline\n",
       " 0 & 0 & 0 & 1\n",
       "\\end{array}\\right), \\left(\\begin{array}{rrrr}\n",
       "-6 & -9 & 0 & 1 \\\\\n",
       "-6 & -9 & 1 & -\\frac{1}{3} \\\\\n",
       "-6 & 3 & 1 & -\\frac{1}{3} \\\\\n",
       "-6 & -3 & -2 & -\\frac{1}{3}\n",
       "\\end{array}\\right)\\right)</script></html>"
      ],
      "text/latex": [
       "$$\\newcommand{\\Bold}[1]{\\mathbf{#1}}\\left(\\left(\\begin{array}{rrr|r}\n",
       "1 & 1 & 0 & 0 \\\\\n",
       "0 & 1 & 1 & 0 \\\\\n",
       "0 & 0 & 1 & 0 \\\\\n",
       "\\hline\n",
       " 0 & 0 & 0 & 1\n",
       "\\end{array}\\right), \\left(\\begin{array}{rrrr}\n",
       "-6 & -9 & 0 & 1 \\\\\n",
       "-6 & -9 & 1 & -\\frac{1}{3} \\\\\n",
       "-6 & 3 & 1 & -\\frac{1}{3} \\\\\n",
       "-6 & -3 & -2 & -\\frac{1}{3}\n",
       "\\end{array}\\right)\\right)$$"
      ],
      "text/plain": [
       "(\n",
       "[1 1 0|0]                       \n",
       "[0 1 1|0]  [  -6   -9    0    1]\n",
       "[0 0 1|0]  [  -6   -9    1 -1/3]\n",
       "[-----+-]  [  -6    3    1 -1/3]\n",
       "[0 0 0|1], [  -6   -3   -2 -1/3]\n",
       ")"
      ]
     },
     "execution_count": 43,
     "metadata": {},
     "output_type": "execute_result"
    }
   ],
   "source": [
    "C_jordan = matrix_direct_sum(C_boxes)\n",
    "C_jordan, U_C"
   ]
  },
  {
   "cell_type": "markdown",
   "id": "78317dd8",
   "metadata": {},
   "source": [
    "Partie 2 de l'exercice."
   ]
  },
  {
   "cell_type": "code",
   "execution_count": 40,
   "id": "5c1e9da6",
   "metadata": {},
   "outputs": [],
   "source": [
    "U_C_cols = U_C.columns()"
   ]
  },
  {
   "cell_type": "code",
   "execution_count": 41,
   "id": "ea39787a",
   "metadata": {},
   "outputs": [
    {
     "data": {
      "text/html": [
       "<html><script type=\"math/tex; mode=display\">\\newcommand{\\Bold}[1]{\\mathbf{#1}}\\left(\\begin{array}{rrrr}\n",
       "1 & 1 & 0 & 0 \\\\\n",
       "0 & 1 & 1 & 0 \\\\\n",
       "0 & 0 & 1 & 0 \\\\\n",
       "0 & 0 & 0 & 1\n",
       "\\end{array}\\right)</script></html>"
      ],
      "text/latex": [
       "$$\\newcommand{\\Bold}[1]{\\mathbf{#1}}\\left(\\begin{array}{rrrr}\n",
       "1 & 1 & 0 & 0 \\\\\n",
       "0 & 1 & 1 & 0 \\\\\n",
       "0 & 0 & 1 & 0 \\\\\n",
       "0 & 0 & 0 & 1\n",
       "\\end{array}\\right)$$"
      ],
      "text/plain": [
       "[1 1 0 0]\n",
       "[0 1 1 0]\n",
       "[0 0 1 0]\n",
       "[0 0 0 1]"
      ]
     },
     "execution_count": 41,
     "metadata": {},
     "output_type": "execute_result"
    }
   ],
   "source": [
    "basis_C_1 = U_C_cols\n",
    "restriction_matrix(C, basis_C_1, basis_C_1)"
   ]
  },
  {
   "cell_type": "code",
   "execution_count": 42,
   "id": "ea084c02-5a70-4b5f-bc57-3edb4bb1027d",
   "metadata": {},
   "outputs": [
    {
     "data": {
      "text/html": [
       "<html><script type=\"math/tex; mode=display\">\\newcommand{\\Bold}[1]{\\mathbf{#1}}\\left(\\begin{array}{rrrrrr}\n",
       "3 & 0 & 1 & 0 & 1 & 0 \\\\\n",
       "1 & 3 & 1 & -1 & 0 & 1 \\\\\n",
       "-1 & 0 & 1 & 0 & -1 & 0 \\\\\n",
       "1 & 1 & 1 & 1 & 0 & 1 \\\\\n",
       "0 & 0 & 0 & 0 & 2 & 0 \\\\\n",
       "1 & 0 & 1 & 0 & 0 & 2\n",
       "\\end{array}\\right)</script></html>"
      ],
      "text/latex": [
       "$$\\newcommand{\\Bold}[1]{\\mathbf{#1}}\\left(\\begin{array}{rrrrrr}\n",
       "3 & 0 & 1 & 0 & 1 & 0 \\\\\n",
       "1 & 3 & 1 & -1 & 0 & 1 \\\\\n",
       "-1 & 0 & 1 & 0 & -1 & 0 \\\\\n",
       "1 & 1 & 1 & 1 & 0 & 1 \\\\\n",
       "0 & 0 & 0 & 0 & 2 & 0 \\\\\n",
       "1 & 0 & 1 & 0 & 0 & 2\n",
       "\\end{array}\\right)$$"
      ],
      "text/plain": [
       "[ 3  0  1  0  1  0]\n",
       "[ 1  3  1 -1  0  1]\n",
       "[-1  0  1  0 -1  0]\n",
       "[ 1  1  1  1  0  1]\n",
       "[ 0  0  0  0  2  0]\n",
       "[ 1  0  1  0  0  2]"
      ]
     },
     "execution_count": 42,
     "metadata": {},
     "output_type": "execute_result"
    }
   ],
   "source": [
    "D = matrix(QQ,[\n",
    "    [3,0,1,0,1,0],\n",
    "    [1,3,1,-1,0,1],\n",
    "    [-1,0,1,0,-1,0],\n",
    "    [1,1,1,1,0,1],\n",
    "    [0,0,0,0,2,0],\n",
    "    [1,0,1,0,0,2]])\n",
    "D"
   ]
  },
  {
   "cell_type": "code",
   "execution_count": 23,
   "id": "3be4661e",
   "metadata": {},
   "outputs": [
    {
     "data": {
      "text/html": [
       "<html><script type=\"math/tex; mode=display\">\\newcommand{\\Bold}[1]{\\mathbf{#1}}(x - 2)^{3}</script></html>"
      ],
      "text/latex": [
       "$$\\newcommand{\\Bold}[1]{\\mathbf{#1}}(x - 2)^{3}$$"
      ],
      "text/plain": [
       "(x - 2)^3"
      ]
     },
     "execution_count": 23,
     "metadata": {},
     "output_type": "execute_result"
    }
   ],
   "source": [
    "factor(D.minpoly())"
   ]
  },
  {
   "cell_type": "code",
   "execution_count": 44,
   "id": "3ea8290b",
   "metadata": {},
   "outputs": [
    {
     "data": {
      "text/html": [
       "<html><script type=\"math/tex; mode=display\">\\newcommand{\\Bold}[1]{\\mathbf{#1}}\\left(\\left(\\begin{array}{rrr|rr|r}\n",
       "2 & 1 & 0 & 0 & 0 & 0 \\\\\n",
       "0 & 2 & 1 & 0 & 0 & 0 \\\\\n",
       "0 & 0 & 2 & 0 & 0 & 0 \\\\\n",
       "\\hline\n",
       " 0 & 0 & 0 & 2 & 1 & 0 \\\\\n",
       "0 & 0 & 0 & 0 & 2 & 0 \\\\\n",
       "\\hline\n",
       " 0 & 0 & 0 & 0 & 0 & 2\n",
       "\\end{array}\\right), \\left(\\begin{array}{rrrrrr}\n",
       "0 & 2 & 1 & 1 & 0 & 0 \\\\\n",
       "2 & 2 & 0 & 0 & 0 & 1 \\\\\n",
       "0 & -2 & 1 & -1 & 0 & 0 \\\\\n",
       "2 & 2 & 0 & 0 & 0 & -1 \\\\\n",
       "0 & 0 & 0 & 0 & 1 & 0 \\\\\n",
       "0 & 2 & 0 & 0 & 0 & -2\n",
       "\\end{array}\\right)\\right)</script></html>"
      ],
      "text/latex": [
       "$$\\newcommand{\\Bold}[1]{\\mathbf{#1}}\\left(\\left(\\begin{array}{rrr|rr|r}\n",
       "2 & 1 & 0 & 0 & 0 & 0 \\\\\n",
       "0 & 2 & 1 & 0 & 0 & 0 \\\\\n",
       "0 & 0 & 2 & 0 & 0 & 0 \\\\\n",
       "\\hline\n",
       " 0 & 0 & 0 & 2 & 1 & 0 \\\\\n",
       "0 & 0 & 0 & 0 & 2 & 0 \\\\\n",
       "\\hline\n",
       " 0 & 0 & 0 & 0 & 0 & 2\n",
       "\\end{array}\\right), \\left(\\begin{array}{rrrrrr}\n",
       "0 & 2 & 1 & 1 & 0 & 0 \\\\\n",
       "2 & 2 & 0 & 0 & 0 & 1 \\\\\n",
       "0 & -2 & 1 & -1 & 0 & 0 \\\\\n",
       "2 & 2 & 0 & 0 & 0 & -1 \\\\\n",
       "0 & 0 & 0 & 0 & 1 & 0 \\\\\n",
       "0 & 2 & 0 & 0 & 0 & -2\n",
       "\\end{array}\\right)\\right)$$"
      ],
      "text/plain": [
       "(\n",
       "[2 1 0|0 0|0]                     \n",
       "[0 2 1|0 0|0]                     \n",
       "[0 0 2|0 0|0]  [ 0  2  1  1  0  0]\n",
       "[-----+---+-]  [ 2  2  0  0  0  1]\n",
       "[0 0 0|2 1|0]  [ 0 -2  1 -1  0  0]\n",
       "[0 0 0|0 2|0]  [ 2  2  0  0  0 -1]\n",
       "[-----+---+-]  [ 0  0  0  0  1  0]\n",
       "[0 0 0|0 0|2], [ 0  2  0  0  0 -2]\n",
       ")"
      ]
     },
     "execution_count": 44,
     "metadata": {},
     "output_type": "execute_result"
    }
   ],
   "source": [
    "D_jordan = matrix_direct_sum(gabriel_roiter(D, 2, block_list = True)[0])\n",
    "U_D = gabriel_roiter(D, 2, block_list = True)[2]\n",
    "D_jordan, U_D"
   ]
  },
  {
   "cell_type": "markdown",
   "id": "06e4461f",
   "metadata": {},
   "source": [
    "Partie 2 de l'exercice."
   ]
  },
  {
   "cell_type": "code",
   "execution_count": 25,
   "id": "a261ae50",
   "metadata": {},
   "outputs": [],
   "source": [
    "U_D_cols = U_D.columns()"
   ]
  },
  {
   "cell_type": "code",
   "execution_count": 26,
   "id": "681a7dd6",
   "metadata": {},
   "outputs": [
    {
     "data": {
      "text/html": [
       "<html><script type=\"math/tex; mode=display\">\\newcommand{\\Bold}[1]{\\mathbf{#1}}\\left(\\begin{array}{rrrrrr}\n",
       "2 & 1 & 0 & 0 & 0 & 0 \\\\\n",
       "0 & 2 & 1 & 0 & 0 & 0 \\\\\n",
       "0 & 0 & 2 & 0 & 0 & 0 \\\\\n",
       "0 & 0 & 0 & 2 & 1 & 0 \\\\\n",
       "0 & 0 & 0 & 0 & 2 & 0 \\\\\n",
       "0 & 0 & 0 & 0 & 0 & 2\n",
       "\\end{array}\\right)</script></html>"
      ],
      "text/latex": [
       "$$\\newcommand{\\Bold}[1]{\\mathbf{#1}}\\left(\\begin{array}{rrrrrr}\n",
       "2 & 1 & 0 & 0 & 0 & 0 \\\\\n",
       "0 & 2 & 1 & 0 & 0 & 0 \\\\\n",
       "0 & 0 & 2 & 0 & 0 & 0 \\\\\n",
       "0 & 0 & 0 & 2 & 1 & 0 \\\\\n",
       "0 & 0 & 0 & 0 & 2 & 0 \\\\\n",
       "0 & 0 & 0 & 0 & 0 & 2\n",
       "\\end{array}\\right)$$"
      ],
      "text/plain": [
       "[2 1 0 0 0 0]\n",
       "[0 2 1 0 0 0]\n",
       "[0 0 2 0 0 0]\n",
       "[0 0 0 2 1 0]\n",
       "[0 0 0 0 2 0]\n",
       "[0 0 0 0 0 2]"
      ]
     },
     "execution_count": 26,
     "metadata": {},
     "output_type": "execute_result"
    }
   ],
   "source": [
    "basis_D_2 = U_D_cols\n",
    "restriction_matrix(D, basis_D_2, basis_D_2)"
   ]
  },
  {
   "cell_type": "code",
   "execution_count": 27,
   "id": "694c1e3f-53f5-4ff2-84de-34a0ce5d70e6",
   "metadata": {},
   "outputs": [
    {
     "data": {
      "text/html": [
       "<html><script type=\"math/tex; mode=display\">\\newcommand{\\Bold}[1]{\\mathbf{#1}}\\left(\\begin{array}{rrrrrr}\n",
       "0 & 0 & 0 & 0 & -1 & -1 \\\\\n",
       "0 & -8 & 4 & -3 & 1 & -3 \\\\\n",
       "-3 & 13 & -8 & 6 & 2 & 9 \\\\\n",
       "-2 & 14 & -7 & 4 & 2 & 10 \\\\\n",
       "1 & -18 & 11 & -11 & 2 & -6 \\\\\n",
       "-1 & 19 & -11 & 10 & -2 & 7\n",
       "\\end{array}\\right)</script></html>"
      ],
      "text/latex": [
       "$$\\newcommand{\\Bold}[1]{\\mathbf{#1}}\\left(\\begin{array}{rrrrrr}\n",
       "0 & 0 & 0 & 0 & -1 & -1 \\\\\n",
       "0 & -8 & 4 & -3 & 1 & -3 \\\\\n",
       "-3 & 13 & -8 & 6 & 2 & 9 \\\\\n",
       "-2 & 14 & -7 & 4 & 2 & 10 \\\\\n",
       "1 & -18 & 11 & -11 & 2 & -6 \\\\\n",
       "-1 & 19 & -11 & 10 & -2 & 7\n",
       "\\end{array}\\right)$$"
      ],
      "text/plain": [
       "[  0   0   0   0  -1  -1]\n",
       "[  0  -8   4  -3   1  -3]\n",
       "[ -3  13  -8   6   2   9]\n",
       "[ -2  14  -7   4   2  10]\n",
       "[  1 -18  11 -11   2  -6]\n",
       "[ -1  19 -11  10  -2   7]"
      ]
     },
     "execution_count": 27,
     "metadata": {},
     "output_type": "execute_result"
    }
   ],
   "source": [
    "E = matrix(QQ,[\n",
    "    [0,0,0,0,-1,-1],\n",
    "    [0,-8,4,-3,1,-3],\n",
    "    [-3,13,-8,6,2,9],\n",
    "    [-2,14,-7,4,2,10],\n",
    "    [1,-18,11,-11,2,-6],\n",
    "    [-1,19,-11,10,-2,7]])\n",
    "E"
   ]
  },
  {
   "cell_type": "code",
   "execution_count": 28,
   "id": "5eec4d66",
   "metadata": {},
   "outputs": [
    {
     "data": {
      "text/html": [
       "<html><script type=\"math/tex; mode=display\">\\newcommand{\\Bold}[1]{\\mathbf{#1}}(x - 2) \\cdot (x + 1)^{3}</script></html>"
      ],
      "text/latex": [
       "$$\\newcommand{\\Bold}[1]{\\mathbf{#1}}(x - 2) \\cdot (x + 1)^{3}$$"
      ],
      "text/plain": [
       "(x - 2) * (x + 1)^3"
      ]
     },
     "execution_count": 28,
     "metadata": {},
     "output_type": "execute_result"
    }
   ],
   "source": [
    "factor(E.minpoly())"
   ]
  },
  {
   "cell_type": "code",
   "execution_count": 45,
   "id": "3164b51b",
   "metadata": {},
   "outputs": [
    {
     "data": {
      "text/html": [
       "<html><script type=\"math/tex; mode=display\">\\newcommand{\\Bold}[1]{\\mathbf{#1}}\\left(\\left[\\left(\\begin{array}{rrr}\n",
       "-1 & 1 & 0 \\\\\n",
       "0 & -1 & 1 \\\\\n",
       "0 & 0 & -1\n",
       "\\end{array}\\right), \\left(\\begin{array}{rr}\n",
       "-1 & 1 \\\\\n",
       "0 & -1\n",
       "\\end{array}\\right)\\right], \\left(\\begin{array}{r}\n",
       "2\n",
       "\\end{array}\\right), \\left(\\begin{array}{rrrrrr}\n",
       "55 & 20 & 1 & \\frac{3}{4} & 1 & 0 \\\\\n",
       "-110 & -10 & 5 & \\frac{5}{16} & \\frac{3}{16} & 1 \\\\\n",
       "-55 & -50 & -3 & -\\frac{41}{16} & \\frac{7}{16} & -2 \\\\\n",
       "55 & -65 & 4 & -\\frac{17}{16} & -\\frac{1}{8} & -2 \\\\\n",
       "-55 & -70 & -2 & \\frac{23}{8} & \\frac{1}{16} & 3 \\\\\n",
       "110 & 35 & -17 & -\\frac{17}{8} & \\frac{3}{16} & -3\n",
       "\\end{array}\\right)\\right)</script></html>"
      ],
      "text/latex": [
       "$$\\newcommand{\\Bold}[1]{\\mathbf{#1}}\\left(\\left[\\left(\\begin{array}{rrr}\n",
       "-1 & 1 & 0 \\\\\n",
       "0 & -1 & 1 \\\\\n",
       "0 & 0 & -1\n",
       "\\end{array}\\right), \\left(\\begin{array}{rr}\n",
       "-1 & 1 \\\\\n",
       "0 & -1\n",
       "\\end{array}\\right)\\right], \\left(\\begin{array}{r}\n",
       "2\n",
       "\\end{array}\\right), \\left(\\begin{array}{rrrrrr}\n",
       "55 & 20 & 1 & \\frac{3}{4} & 1 & 0 \\\\\n",
       "-110 & -10 & 5 & \\frac{5}{16} & \\frac{3}{16} & 1 \\\\\n",
       "-55 & -50 & -3 & -\\frac{41}{16} & \\frac{7}{16} & -2 \\\\\n",
       "55 & -65 & 4 & -\\frac{17}{16} & -\\frac{1}{8} & -2 \\\\\n",
       "-55 & -70 & -2 & \\frac{23}{8} & \\frac{1}{16} & 3 \\\\\n",
       "110 & 35 & -17 & -\\frac{17}{8} & \\frac{3}{16} & -3\n",
       "\\end{array}\\right)\\right)$$"
      ],
      "text/plain": [
       "(\n",
       "                          [    55     20      1    3/4      1      0]\n",
       "                          [  -110    -10      5   5/16   3/16      1]\n",
       "[[-1  1  0]               [   -55    -50     -3 -41/16   7/16     -2]\n",
       "[ 0 -1  1]                [    55    -65      4 -17/16   -1/8     -2]\n",
       "[ 0  0 -1], [-1  1]       [   -55    -70     -2   23/8   1/16      3]\n",
       "[ 0 -1]]           , [2], [   110     35    -17  -17/8   3/16     -3]\n",
       ")"
      ]
     },
     "execution_count": 45,
     "metadata": {},
     "output_type": "execute_result"
    }
   ],
   "source": [
    "E_boxes_1, R_E, U_E_1 = gabriel_roiter(E, -1, block_list = True)\n",
    "E_boxes_1, R_E, U_E_1"
   ]
  },
  {
   "cell_type": "code",
   "execution_count": 46,
   "id": "34d57bda",
   "metadata": {},
   "outputs": [
    {
     "data": {
      "text/html": [
       "<html><script type=\"math/tex; mode=display\">\\newcommand{\\Bold}[1]{\\mathbf{#1}}\\left(\\left[\\left(\\begin{array}{r}\n",
       "2\n",
       "\\end{array}\\right)\\right], (), \\left(\\begin{array}{r}\n",
       "1\n",
       "\\end{array}\\right)\\right)</script></html>"
      ],
      "text/latex": [
       "$$\\newcommand{\\Bold}[1]{\\mathbf{#1}}\\left(\\left[\\left(\\begin{array}{r}\n",
       "2\n",
       "\\end{array}\\right)\\right], (), \\left(\\begin{array}{r}\n",
       "1\n",
       "\\end{array}\\right)\\right)$$"
      ],
      "text/plain": [
       "([[2]], [], [1])"
      ]
     },
     "execution_count": 46,
     "metadata": {},
     "output_type": "execute_result"
    }
   ],
   "source": [
    "E_boxes_2, R_E, U_E_2 = gabriel_roiter(R_E, 2, block_list = True)\n",
    "E_boxes_2, R_E, U_E_2"
   ]
  },
  {
   "cell_type": "code",
   "execution_count": 48,
   "id": "cb4fc9cd",
   "metadata": {},
   "outputs": [
    {
     "data": {
      "text/html": [
       "<html><script type=\"math/tex; mode=display\">\\newcommand{\\Bold}[1]{\\mathbf{#1}}\\left(\\left(\\begin{array}{rrr|rr|r}\n",
       "-1 & 1 & 0 & 0 & 0 & 0 \\\\\n",
       "0 & -1 & 1 & 0 & 0 & 0 \\\\\n",
       "0 & 0 & -1 & 0 & 0 & 0 \\\\\n",
       "\\hline\n",
       " 0 & 0 & 0 & -1 & 1 & 0 \\\\\n",
       "0 & 0 & 0 & 0 & -1 & 0 \\\\\n",
       "\\hline\n",
       " 0 & 0 & 0 & 0 & 0 & 2\n",
       "\\end{array}\\right), \\left(\\begin{array}{rrrrrr}\n",
       "55 & 20 & 1 & \\frac{3}{4} & 1 & 0 \\\\\n",
       "-110 & -10 & 5 & \\frac{5}{16} & \\frac{3}{16} & 1 \\\\\n",
       "-55 & -50 & -3 & -\\frac{41}{16} & \\frac{7}{16} & -2 \\\\\n",
       "55 & -65 & 4 & -\\frac{17}{16} & -\\frac{1}{8} & -2 \\\\\n",
       "-55 & -70 & -2 & \\frac{23}{8} & \\frac{1}{16} & 3 \\\\\n",
       "110 & 35 & -17 & -\\frac{17}{8} & \\frac{3}{16} & -3\n",
       "\\end{array}\\right)\\right)</script></html>"
      ],
      "text/latex": [
       "$$\\newcommand{\\Bold}[1]{\\mathbf{#1}}\\left(\\left(\\begin{array}{rrr|rr|r}\n",
       "-1 & 1 & 0 & 0 & 0 & 0 \\\\\n",
       "0 & -1 & 1 & 0 & 0 & 0 \\\\\n",
       "0 & 0 & -1 & 0 & 0 & 0 \\\\\n",
       "\\hline\n",
       " 0 & 0 & 0 & -1 & 1 & 0 \\\\\n",
       "0 & 0 & 0 & 0 & -1 & 0 \\\\\n",
       "\\hline\n",
       " 0 & 0 & 0 & 0 & 0 & 2\n",
       "\\end{array}\\right), \\left(\\begin{array}{rrrrrr}\n",
       "55 & 20 & 1 & \\frac{3}{4} & 1 & 0 \\\\\n",
       "-110 & -10 & 5 & \\frac{5}{16} & \\frac{3}{16} & 1 \\\\\n",
       "-55 & -50 & -3 & -\\frac{41}{16} & \\frac{7}{16} & -2 \\\\\n",
       "55 & -65 & 4 & -\\frac{17}{16} & -\\frac{1}{8} & -2 \\\\\n",
       "-55 & -70 & -2 & \\frac{23}{8} & \\frac{1}{16} & 3 \\\\\n",
       "110 & 35 & -17 & -\\frac{17}{8} & \\frac{3}{16} & -3\n",
       "\\end{array}\\right)\\right)$$"
      ],
      "text/plain": [
       "(\n",
       "[-1  1  0| 0  0| 0]                                             \n",
       "[ 0 -1  1| 0  0| 0]                                             \n",
       "[ 0  0 -1| 0  0| 0]  [    55     20      1    3/4      1      0]\n",
       "[--------+-----+--]  [  -110    -10      5   5/16   3/16      1]\n",
       "[ 0  0  0|-1  1| 0]  [   -55    -50     -3 -41/16   7/16     -2]\n",
       "[ 0  0  0| 0 -1| 0]  [    55    -65      4 -17/16   -1/8     -2]\n",
       "[--------+-----+--]  [   -55    -70     -2   23/8   1/16      3]\n",
       "[ 0  0  0| 0  0| 2], [   110     35    -17  -17/8   3/16     -3]\n",
       ")"
      ]
     },
     "execution_count": 48,
     "metadata": {},
     "output_type": "execute_result"
    }
   ],
   "source": [
    "E_jordan = matrix_direct_sum(E_boxes_1 + E_boxes_2)\n",
    "U_E = U_E_1*matrix_direct_sum([I(5),U_E_2])\n",
    "E_jordan, U_E"
   ]
  },
  {
   "cell_type": "markdown",
   "id": "ea3ba3ca",
   "metadata": {},
   "source": [
    "Partie 2 de l'exercice."
   ]
  },
  {
   "cell_type": "code",
   "execution_count": 32,
   "id": "a432f06a",
   "metadata": {},
   "outputs": [],
   "source": [
    "U_E_cols = U_E.columns()"
   ]
  },
  {
   "cell_type": "code",
   "execution_count": 33,
   "id": "40a09b21",
   "metadata": {},
   "outputs": [
    {
     "data": {
      "text/html": [
       "<html><script type=\"math/tex; mode=display\">\\newcommand{\\Bold}[1]{\\mathbf{#1}}\\left(\\left(\\begin{array}{rrrrr}\n",
       "-1 & 1 & 0 & 0 & 0 \\\\\n",
       "0 & -1 & 1 & 0 & 0 \\\\\n",
       "0 & 0 & -1 & 0 & 0 \\\\\n",
       "0 & 0 & 0 & -1 & 1 \\\\\n",
       "0 & 0 & 0 & 0 & -1\n",
       "\\end{array}\\right), \\left(\\begin{array}{r}\n",
       "2\n",
       "\\end{array}\\right)\\right)</script></html>"
      ],
      "text/latex": [
       "$$\\newcommand{\\Bold}[1]{\\mathbf{#1}}\\left(\\left(\\begin{array}{rrrrr}\n",
       "-1 & 1 & 0 & 0 & 0 \\\\\n",
       "0 & -1 & 1 & 0 & 0 \\\\\n",
       "0 & 0 & -1 & 0 & 0 \\\\\n",
       "0 & 0 & 0 & -1 & 1 \\\\\n",
       "0 & 0 & 0 & 0 & -1\n",
       "\\end{array}\\right), \\left(\\begin{array}{r}\n",
       "2\n",
       "\\end{array}\\right)\\right)$$"
      ],
      "text/plain": [
       "(\n",
       "[-1  1  0  0  0]     \n",
       "[ 0 -1  1  0  0]     \n",
       "[ 0  0 -1  0  0]     \n",
       "[ 0  0  0 -1  1]     \n",
       "[ 0  0  0  0 -1], [2]\n",
       ")"
      ]
     },
     "execution_count": 33,
     "metadata": {},
     "output_type": "execute_result"
    }
   ],
   "source": [
    "basis_E_n1, basis_E_2 = U_E_cols[:5], U_E_cols[5:]\n",
    "restriction_matrix(E, basis_E_n1, basis_E_n1), restriction_matrix(E, basis_E_2, basis_E_2)"
   ]
  },
  {
   "cell_type": "markdown",
   "id": "fc5f8017-4392-46c6-a5d1-8e2d18917315",
   "metadata": {},
   "source": [
    "# Exo 2"
   ]
  },
  {
   "cell_type": "code",
   "execution_count": 57,
   "id": "4b0fcfa1-7fa3-4fb8-bbb5-5834e1d2ba54",
   "metadata": {},
   "outputs": [
    {
     "data": {
      "text/html": [
       "<html><script type=\"math/tex; mode=display\">\\newcommand{\\Bold}[1]{\\mathbf{#1}}\\left(\\begin{array}{rrrrrrrrr}\n",
       "1 & 0 & -2 & 0 & 1 & 1 & 1 & 0 & 0 \\\\\n",
       "0 & 2 & 0 & 2 & 0 & 0 & 0 & 0 & 1 \\\\\n",
       "-5 & 0 & -1 & 0 & -1 & 0 & -3 & -1 & 0 \\\\\n",
       "0 & 4 & 0 & 1 & 0 & 0 & 0 & 0 & 0 \\\\\n",
       "-5 & 0 & -1 & 0 & -1 & 0 & -3 & -1 & 0 \\\\\n",
       "-3 & 0 & -1 & 0 & 0 & 0 & -2 & -1 & 0 \\\\\n",
       "3 & 0 & 5 & 0 & -1 & -2 & 1 & 1 & 0 \\\\\n",
       "2 & 0 & 0 & 0 & 1 & 0 & 1 & 0 & 0 \\\\\n",
       "0 & -2 & 0 & 2 & 0 & 0 & 0 & 0 & 1\n",
       "\\end{array}\\right)</script></html>"
      ],
      "text/latex": [
       "$$\\newcommand{\\Bold}[1]{\\mathbf{#1}}\\left(\\begin{array}{rrrrrrrrr}\n",
       "1 & 0 & -2 & 0 & 1 & 1 & 1 & 0 & 0 \\\\\n",
       "0 & 2 & 0 & 2 & 0 & 0 & 0 & 0 & 1 \\\\\n",
       "-5 & 0 & -1 & 0 & -1 & 0 & -3 & -1 & 0 \\\\\n",
       "0 & 4 & 0 & 1 & 0 & 0 & 0 & 0 & 0 \\\\\n",
       "-5 & 0 & -1 & 0 & -1 & 0 & -3 & -1 & 0 \\\\\n",
       "-3 & 0 & -1 & 0 & 0 & 0 & -2 & -1 & 0 \\\\\n",
       "3 & 0 & 5 & 0 & -1 & -2 & 1 & 1 & 0 \\\\\n",
       "2 & 0 & 0 & 0 & 1 & 0 & 1 & 0 & 0 \\\\\n",
       "0 & -2 & 0 & 2 & 0 & 0 & 0 & 0 & 1\n",
       "\\end{array}\\right)$$"
      ],
      "text/plain": [
       "[ 1  0 -2  0  1  1  1  0  0]\n",
       "[ 0  2  0  2  0  0  0  0  1]\n",
       "[-5  0 -1  0 -1  0 -3 -1  0]\n",
       "[ 0  4  0  1  0  0  0  0  0]\n",
       "[-5  0 -1  0 -1  0 -3 -1  0]\n",
       "[-3  0 -1  0  0  0 -2 -1  0]\n",
       "[ 3  0  5  0 -1 -2  1  1  0]\n",
       "[ 2  0  0  0  1  0  1  0  0]\n",
       "[ 0 -2  0  2  0  0  0  0  1]"
      ]
     },
     "execution_count": 57,
     "metadata": {},
     "output_type": "execute_result"
    }
   ],
   "source": [
    "A = matrix(QQ,[\n",
    "    [ 1,  0, -2,  0,  1,  1,  1,  0,  0],\n",
    "    [ 0,  2,  0,  2,  0,  0,  0,  0,  1],\n",
    "    [-5,  0, -1,  0, -1,  0, -3, -1,  0],\n",
    "    [ 0,  4,  0,  1,  0,  0,  0,  0,  0],\n",
    "    [-5,  0, -1,  0, -1,  0, -3, -1,  0],\n",
    "    [-3,  0, -1, 0,  0,  0, -2, -1,  0],\n",
    "    [ 3,  0,  5,  0, -1, -2,  1,  1,  0],\n",
    "    [ 2,  0,  0,  0,  1,  0,  1,  0,  0],\n",
    "    [ 0, -2,  0,  2,  0,  0,  0,  0,  1]])\n",
    "A"
   ]
  },
  {
   "cell_type": "code",
   "execution_count": 58,
   "id": "2714660b-f0c1-4428-8595-d19b418a49ca",
   "metadata": {},
   "outputs": [
    {
     "data": {
      "text/html": [
       "<html><script type=\"math/tex; mode=display\">\\newcommand{\\Bold}[1]{\\mathbf{#1}}\\left(\\left(\\begin{array}{rrrrrr|rrr}\n",
       "1 & -2 & 1 & 1 & 1 & 0 & 0 & 0 & 0 \\\\\n",
       "-5 & -1 & -1 & 0 & -3 & -1 & 0 & 0 & 0 \\\\\n",
       "-5 & -1 & -1 & 0 & -3 & -1 & 0 & 0 & 0 \\\\\n",
       "-3 & -1 & 0 & 0 & -2 & -1 & 0 & 0 & 0 \\\\\n",
       "3 & 5 & -1 & -2 & 1 & 1 & 0 & 0 & 0 \\\\\n",
       "2 & 0 & 1 & 0 & 1 & 0 & 0 & 0 & 0 \\\\\n",
       "\\hline\n",
       " 0 & 0 & 0 & 0 & 0 & 0 & 2 & 2 & 1 \\\\\n",
       "0 & 0 & 0 & 0 & 0 & 0 & 4 & 1 & 0 \\\\\n",
       "0 & 0 & 0 & 0 & 0 & 0 & -2 & 2 & 1\n",
       "\\end{array}\\right), \\left(\\begin{array}{rrrrrrrrr}\n",
       "1 & 0 & 0 & 0 & 0 & 0 & 0 & 0 & 0 \\\\\n",
       "0 & 0 & 0 & 0 & 0 & 0 & 1 & 0 & 0 \\\\\n",
       "0 & 1 & 0 & 0 & 0 & 0 & 0 & 0 & 0 \\\\\n",
       "0 & 0 & 0 & 0 & 0 & 0 & 0 & 1 & 0 \\\\\n",
       "0 & 0 & 1 & 0 & 0 & 0 & 0 & 0 & 0 \\\\\n",
       "0 & 0 & 0 & 1 & 0 & 0 & 0 & 0 & 0 \\\\\n",
       "0 & 0 & 0 & 0 & 1 & 0 & 0 & 0 & 0 \\\\\n",
       "0 & 0 & 0 & 0 & 0 & 1 & 0 & 0 & 0 \\\\\n",
       "0 & 0 & 0 & 0 & 0 & 0 & 0 & 0 & 1\n",
       "\\end{array}\\right)\\right)</script></html>"
      ],
      "text/latex": [
       "$$\\newcommand{\\Bold}[1]{\\mathbf{#1}}\\left(\\left(\\begin{array}{rrrrrr|rrr}\n",
       "1 & -2 & 1 & 1 & 1 & 0 & 0 & 0 & 0 \\\\\n",
       "-5 & -1 & -1 & 0 & -3 & -1 & 0 & 0 & 0 \\\\\n",
       "-5 & -1 & -1 & 0 & -3 & -1 & 0 & 0 & 0 \\\\\n",
       "-3 & -1 & 0 & 0 & -2 & -1 & 0 & 0 & 0 \\\\\n",
       "3 & 5 & -1 & -2 & 1 & 1 & 0 & 0 & 0 \\\\\n",
       "2 & 0 & 1 & 0 & 1 & 0 & 0 & 0 & 0 \\\\\n",
       "\\hline\n",
       " 0 & 0 & 0 & 0 & 0 & 0 & 2 & 2 & 1 \\\\\n",
       "0 & 0 & 0 & 0 & 0 & 0 & 4 & 1 & 0 \\\\\n",
       "0 & 0 & 0 & 0 & 0 & 0 & -2 & 2 & 1\n",
       "\\end{array}\\right), \\left(\\begin{array}{rrrrrrrrr}\n",
       "1 & 0 & 0 & 0 & 0 & 0 & 0 & 0 & 0 \\\\\n",
       "0 & 0 & 0 & 0 & 0 & 0 & 1 & 0 & 0 \\\\\n",
       "0 & 1 & 0 & 0 & 0 & 0 & 0 & 0 & 0 \\\\\n",
       "0 & 0 & 0 & 0 & 0 & 0 & 0 & 1 & 0 \\\\\n",
       "0 & 0 & 1 & 0 & 0 & 0 & 0 & 0 & 0 \\\\\n",
       "0 & 0 & 0 & 1 & 0 & 0 & 0 & 0 & 0 \\\\\n",
       "0 & 0 & 0 & 0 & 1 & 0 & 0 & 0 & 0 \\\\\n",
       "0 & 0 & 0 & 0 & 0 & 1 & 0 & 0 & 0 \\\\\n",
       "0 & 0 & 0 & 0 & 0 & 0 & 0 & 0 & 1\n",
       "\\end{array}\\right)\\right)$$"
      ],
      "text/plain": [
       "(\n",
       "[ 1 -2  1  1  1  0| 0  0  0]                     \n",
       "[-5 -1 -1  0 -3 -1| 0  0  0]  [1 0 0 0 0 0 0 0 0]\n",
       "[-5 -1 -1  0 -3 -1| 0  0  0]  [0 0 0 0 0 0 1 0 0]\n",
       "[-3 -1  0  0 -2 -1| 0  0  0]  [0 1 0 0 0 0 0 0 0]\n",
       "[ 3  5 -1 -2  1  1| 0  0  0]  [0 0 0 0 0 0 0 1 0]\n",
       "[ 2  0  1  0  1  0| 0  0  0]  [0 0 1 0 0 0 0 0 0]\n",
       "[-----------------+--------]  [0 0 0 1 0 0 0 0 0]\n",
       "[ 0  0  0  0  0  0| 2  2  1]  [0 0 0 0 1 0 0 0 0]\n",
       "[ 0  0  0  0  0  0| 4  1  0]  [0 0 0 0 0 1 0 0 0]\n",
       "[ 0  0  0  0  0  0|-2  2  1], [0 0 0 0 0 0 0 0 1]\n",
       ")"
      ]
     },
     "execution_count": 58,
     "metadata": {},
     "output_type": "execute_result"
    }
   ],
   "source": [
    "fitting_decomposition(A)"
   ]
  },
  {
   "cell_type": "code",
   "execution_count": 59,
   "id": "4357dc2f",
   "metadata": {},
   "outputs": [
    {
     "data": {
      "text/html": [
       "<html><script type=\"math/tex; mode=display\">\\newcommand{\\Bold}[1]{\\mathbf{#1}}\\left(\\left(\\begin{array}{rrr|rr|r|rrr}\n",
       "0 & 1 & 0 & 0 & 0 & 0 & 0 & 0 & 0 \\\\\n",
       "0 & 0 & 1 & 0 & 0 & 0 & 0 & 0 & 0 \\\\\n",
       "0 & 0 & 0 & 0 & 0 & 0 & 0 & 0 & 0 \\\\\n",
       "\\hline\n",
       " 0 & 0 & 0 & 0 & 1 & 0 & 0 & 0 & 0 \\\\\n",
       "0 & 0 & 0 & 0 & 0 & 0 & 0 & 0 & 0 \\\\\n",
       "\\hline\n",
       " 0 & 0 & 0 & 0 & 0 & 0 & 0 & 0 & 0 \\\\\n",
       "\\hline\n",
       " 0 & 0 & 0 & 0 & 0 & 0 & 2 & 2 & 1 \\\\\n",
       "0 & 0 & 0 & 0 & 0 & 0 & 4 & 1 & 0 \\\\\n",
       "0 & 0 & 0 & 0 & 0 & 0 & -2 & 2 & 1\n",
       "\\end{array}\\right), \\left(\\begin{array}{rrrrrrrrr}\n",
       "\\frac{19}{2} & \\frac{1}{2} & 1 & 10 & 1 & 1 & 0 & 0 & 0 \\\\\n",
       "0 & 0 & 0 & 0 & 0 & 0 & 1 & 0 & 0 \\\\\n",
       "-\\frac{19}{2} & -\\frac{22}{3} & \\frac{1}{2} & -\\frac{47}{9} & -\\frac{8}{3} & \\frac{2}{3} & 0 & 0 & 0 \\\\\n",
       "0 & 0 & 0 & 0 & 0 & 0 & 0 & 1 & 0 \\\\\n",
       "-\\frac{19}{2} & -\\frac{22}{3} & \\frac{1}{6} & -\\frac{47}{9} & \\frac{41}{18} & -\\frac{23}{12} & 0 & 0 & 0 \\\\\n",
       "-\\frac{19}{2} & -\\frac{14}{3} & -\\frac{1}{6} & -\\frac{4}{9} & \\frac{8}{9} & \\frac{7}{3} & 0 & 0 & 0 \\\\\n",
       "-\\frac{19}{2} & \\frac{19}{3} & \\frac{1}{2} & -\\frac{133}{9} & \\frac{1}{2} & -\\frac{1}{12} & 0 & 0 & 0 \\\\\n",
       "0 & \\frac{8}{3} & \\frac{1}{6} & \\frac{43}{9} & -\\frac{8}{9} & -\\frac{7}{2} & 0 & 0 & 0 \\\\\n",
       "0 & 0 & 0 & 0 & 0 & 0 & 0 & 0 & 1\n",
       "\\end{array}\\right)\\right)</script></html>"
      ],
      "text/latex": [
       "$$\\newcommand{\\Bold}[1]{\\mathbf{#1}}\\left(\\left(\\begin{array}{rrr|rr|r|rrr}\n",
       "0 & 1 & 0 & 0 & 0 & 0 & 0 & 0 & 0 \\\\\n",
       "0 & 0 & 1 & 0 & 0 & 0 & 0 & 0 & 0 \\\\\n",
       "0 & 0 & 0 & 0 & 0 & 0 & 0 & 0 & 0 \\\\\n",
       "\\hline\n",
       " 0 & 0 & 0 & 0 & 1 & 0 & 0 & 0 & 0 \\\\\n",
       "0 & 0 & 0 & 0 & 0 & 0 & 0 & 0 & 0 \\\\\n",
       "\\hline\n",
       " 0 & 0 & 0 & 0 & 0 & 0 & 0 & 0 & 0 \\\\\n",
       "\\hline\n",
       " 0 & 0 & 0 & 0 & 0 & 0 & 2 & 2 & 1 \\\\\n",
       "0 & 0 & 0 & 0 & 0 & 0 & 4 & 1 & 0 \\\\\n",
       "0 & 0 & 0 & 0 & 0 & 0 & -2 & 2 & 1\n",
       "\\end{array}\\right), \\left(\\begin{array}{rrrrrrrrr}\n",
       "\\frac{19}{2} & \\frac{1}{2} & 1 & 10 & 1 & 1 & 0 & 0 & 0 \\\\\n",
       "0 & 0 & 0 & 0 & 0 & 0 & 1 & 0 & 0 \\\\\n",
       "-\\frac{19}{2} & -\\frac{22}{3} & \\frac{1}{2} & -\\frac{47}{9} & -\\frac{8}{3} & \\frac{2}{3} & 0 & 0 & 0 \\\\\n",
       "0 & 0 & 0 & 0 & 0 & 0 & 0 & 1 & 0 \\\\\n",
       "-\\frac{19}{2} & -\\frac{22}{3} & \\frac{1}{6} & -\\frac{47}{9} & \\frac{41}{18} & -\\frac{23}{12} & 0 & 0 & 0 \\\\\n",
       "-\\frac{19}{2} & -\\frac{14}{3} & -\\frac{1}{6} & -\\frac{4}{9} & \\frac{8}{9} & \\frac{7}{3} & 0 & 0 & 0 \\\\\n",
       "-\\frac{19}{2} & \\frac{19}{3} & \\frac{1}{2} & -\\frac{133}{9} & \\frac{1}{2} & -\\frac{1}{12} & 0 & 0 & 0 \\\\\n",
       "0 & \\frac{8}{3} & \\frac{1}{6} & \\frac{43}{9} & -\\frac{8}{9} & -\\frac{7}{2} & 0 & 0 & 0 \\\\\n",
       "0 & 0 & 0 & 0 & 0 & 0 & 0 & 0 & 1\n",
       "\\end{array}\\right)\\right)$$"
      ],
      "text/plain": [
       "(\n",
       "[ 0  1  0| 0  0| 0| 0  0  0]\n",
       "[ 0  0  1| 0  0| 0| 0  0  0]\n",
       "[ 0  0  0| 0  0| 0| 0  0  0]\n",
       "[--------+-----+--+--------]\n",
       "[ 0  0  0| 0  1| 0| 0  0  0]\n",
       "[ 0  0  0| 0  0| 0| 0  0  0]\n",
       "[--------+-----+--+--------]\n",
       "[ 0  0  0| 0  0| 0| 0  0  0]\n",
       "[--------+-----+--+--------]\n",
       "[ 0  0  0| 0  0| 0| 2  2  1]\n",
       "[ 0  0  0| 0  0| 0| 4  1  0]\n",
       "[ 0  0  0| 0  0| 0|-2  2  1],\n",
       "\n",
       "[  19/2    1/2      1     10      1      1      0      0      0]\n",
       "[     0      0      0      0      0      0      1      0      0]\n",
       "[ -19/2  -22/3    1/2  -47/9   -8/3    2/3      0      0      0]\n",
       "[     0      0      0      0      0      0      0      1      0]\n",
       "[ -19/2  -22/3    1/6  -47/9  41/18 -23/12      0      0      0]\n",
       "[ -19/2  -14/3   -1/6   -4/9    8/9    7/3      0      0      0]\n",
       "[ -19/2   19/3    1/2 -133/9    1/2  -1/12      0      0      0]\n",
       "[     0    8/3    1/6   43/9   -8/9   -7/2      0      0      0]\n",
       "[     0      0      0      0      0      0      0      0      1]\n",
       ")"
      ]
     },
     "execution_count": 59,
     "metadata": {},
     "output_type": "execute_result"
    }
   ],
   "source": [
    "fitting_decomposition(A, 1)"
   ]
  },
  {
   "cell_type": "markdown",
   "id": "598dfbed",
   "metadata": {},
   "source": [
    "# Exercice 3"
   ]
  },
  {
   "cell_type": "code",
   "execution_count": 61,
   "id": "fc281c58",
   "metadata": {},
   "outputs": [
    {
     "data": {
      "text/html": [
       "<html><script type=\"math/tex; mode=display\">\\newcommand{\\Bold}[1]{\\mathbf{#1}}\\left(\\left(\\begin{array}{rrrr}\n",
       "1 & 0 & 0 & 0 \\\\\n",
       "0 & 2 & 0 & 1 \\\\\n",
       "0 & 0 & 3 & 0 \\\\\n",
       "0 & 0 & 0 & 1\n",
       "\\end{array}\\right), \\left(\\begin{array}{rrrr}\n",
       "1 & 0 & 0 & 1 \\\\\n",
       "0 & 2 & 0 & 1 \\\\\n",
       "0 & 0 & 3 & 0 \\\\\n",
       "0 & 0 & 0 & 1\n",
       "\\end{array}\\right)\\right)</script></html>"
      ],
      "text/latex": [
       "$$\\newcommand{\\Bold}[1]{\\mathbf{#1}}\\left(\\left(\\begin{array}{rrrr}\n",
       "1 & 0 & 0 & 0 \\\\\n",
       "0 & 2 & 0 & 1 \\\\\n",
       "0 & 0 & 3 & 0 \\\\\n",
       "0 & 0 & 0 & 1\n",
       "\\end{array}\\right), \\left(\\begin{array}{rrrr}\n",
       "1 & 0 & 0 & 1 \\\\\n",
       "0 & 2 & 0 & 1 \\\\\n",
       "0 & 0 & 3 & 0 \\\\\n",
       "0 & 0 & 0 & 1\n",
       "\\end{array}\\right)\\right)$$"
      ],
      "text/plain": [
       "(\n",
       "[1 0 0 0]  [1 0 0 1]\n",
       "[0 2 0 1]  [0 2 0 1]\n",
       "[0 0 3 0]  [0 0 3 0]\n",
       "[0 0 0 1], [0 0 0 1]\n",
       ")"
      ]
     },
     "execution_count": 61,
     "metadata": {},
     "output_type": "execute_result"
    }
   ],
   "source": [
    "A = Matrix(QQ, [\n",
    "    [1, 0, 0, 0],\n",
    "    [0, 2, 0, 1],\n",
    "    [0, 0, 3, 0],\n",
    "    [0, 0, 0, 1]\n",
    "])\n",
    "\n",
    "B = Matrix(QQ, [\n",
    "    [1, 0, 0, 1],\n",
    "    [0, 2, 0, 1],\n",
    "    [0, 0, 3, 0],\n",
    "    [0, 0, 0, 1]\n",
    "])\n",
    "A, B"
   ]
  },
  {
   "cell_type": "code",
   "execution_count": 66,
   "id": "1fbd2497",
   "metadata": {},
   "outputs": [
    {
     "data": {
      "text/html": [
       "<html><script type=\"math/tex; mode=display\">\\newcommand{\\Bold}[1]{\\mathbf{#1}}\\mathrm{False}</script></html>"
      ],
      "text/latex": [
       "$$\\newcommand{\\Bold}[1]{\\mathbf{#1}}\\mathrm{False}$$"
      ],
      "text/plain": [
       "False"
      ]
     },
     "execution_count": 66,
     "metadata": {},
     "output_type": "execute_result"
    }
   ],
   "source": [
    "A.is_similar(B)"
   ]
  },
  {
   "cell_type": "markdown",
   "id": "fbaffef0",
   "metadata": {},
   "source": [
    "# Exercice 4"
   ]
  },
  {
   "cell_type": "code",
   "execution_count": 84,
   "id": "4cf6b388",
   "metadata": {},
   "outputs": [
    {
     "data": {
      "text/html": [
       "<html><script type=\"math/tex; mode=display\">\\newcommand{\\Bold}[1]{\\mathbf{#1}}\\left(\\left(\\begin{array}{rrrrr}\n",
       "2 & 0 & 0 & 0 & 0 \\\\\n",
       "0 & 2 & 0 & 0 & 0 \\\\\n",
       "0 & 0 & 2 & 1 & 0 \\\\\n",
       "0 & 0 & 0 & 2 & 0 \\\\\n",
       "0 & 0 & 0 & 0 & -1\n",
       "\\end{array}\\right), \\left(\\begin{array}{rrrrr}\n",
       "0 & 0 & 0 & 0 & 0 \\\\\n",
       "0 & 0 & 0 & 0 & 0 \\\\\n",
       "0 & 0 & 0 & 3 & 0 \\\\\n",
       "0 & 0 & 0 & 0 & 0 \\\\\n",
       "0 & 0 & 0 & 0 & 0\n",
       "\\end{array}\\right)\\right)</script></html>"
      ],
      "text/latex": [
       "$$\\newcommand{\\Bold}[1]{\\mathbf{#1}}\\left(\\left(\\begin{array}{rrrrr}\n",
       "2 & 0 & 0 & 0 & 0 \\\\\n",
       "0 & 2 & 0 & 0 & 0 \\\\\n",
       "0 & 0 & 2 & 1 & 0 \\\\\n",
       "0 & 0 & 0 & 2 & 0 \\\\\n",
       "0 & 0 & 0 & 0 & -1\n",
       "\\end{array}\\right), \\left(\\begin{array}{rrrrr}\n",
       "0 & 0 & 0 & 0 & 0 \\\\\n",
       "0 & 0 & 0 & 0 & 0 \\\\\n",
       "0 & 0 & 0 & 3 & 0 \\\\\n",
       "0 & 0 & 0 & 0 & 0 \\\\\n",
       "0 & 0 & 0 & 0 & 0\n",
       "\\end{array}\\right)\\right)$$"
      ],
      "text/plain": [
       "(\n",
       "[ 2  0  0  0  0]  [0 0 0 0 0]\n",
       "[ 0  2  0  0  0]  [0 0 0 0 0]\n",
       "[ 0  0  2  1  0]  [0 0 0 3 0]\n",
       "[ 0  0  0  2  0]  [0 0 0 0 0]\n",
       "[ 0  0  0  0 -1], [0 0 0 0 0]\n",
       ")"
      ]
     },
     "execution_count": 84,
     "metadata": {},
     "output_type": "execute_result"
    }
   ],
   "source": [
    "F = Matrix([\n",
    "    [2, 0, 0, 0, 0],\n",
    "    [0, 2, 0, 0, 0],\n",
    "    [0, 0, 2, 1, 0],\n",
    "    [0, 0, 0, 2, 0],\n",
    "    [0, 0, 0, 0, -1],\n",
    "])\n",
    "\n",
    "F,(F-2*I(5))*(F+I(5))"
   ]
  },
  {
   "cell_type": "markdown",
   "id": "27ee76e7",
   "metadata": {},
   "source": [
    "On a retrouvé une matrice qui est racine du polynôme minimale et dont le polynôme caractéristique est celui spécifié. On peut donc en déduire que toutes les matrices de la classe d'équivalence seront de la forme $P^{-1}FP, \\forall P \\in GL_5(\\mathbb R)$ "
   ]
  },
  {
   "cell_type": "markdown",
   "id": "1b1ba0f8",
   "metadata": {},
   "source": [
    "# Exercice 5"
   ]
  },
  {
   "cell_type": "code",
   "execution_count": 91,
   "id": "d5ea516a",
   "metadata": {},
   "outputs": [
    {
     "data": {
      "text/html": [
       "<html><script type=\"math/tex; mode=display\">\\newcommand{\\Bold}[1]{\\mathbf{#1}}\\left(\\left(\\begin{array}{rrr}\n",
       "-3 & 0 & 0 \\\\\n",
       "0 & -3 & 0 \\\\\n",
       "0 & 0 & 4\n",
       "\\end{array}\\right), \\left(\\begin{array}{rrr}\n",
       "4 & 0 & 0 \\\\\n",
       "0 & 4 & 0 \\\\\n",
       "0 & 0 & -3\n",
       "\\end{array}\\right)\\right)</script></html>"
      ],
      "text/latex": [
       "$$\\newcommand{\\Bold}[1]{\\mathbf{#1}}\\left(\\left(\\begin{array}{rrr}\n",
       "-3 & 0 & 0 \\\\\n",
       "0 & -3 & 0 \\\\\n",
       "0 & 0 & 4\n",
       "\\end{array}\\right), \\left(\\begin{array}{rrr}\n",
       "4 & 0 & 0 \\\\\n",
       "0 & 4 & 0 \\\\\n",
       "0 & 0 & -3\n",
       "\\end{array}\\right)\\right)$$"
      ],
      "text/plain": [
       "(\n",
       "[-3  0  0]  [ 4  0  0]\n",
       "[ 0 -3  0]  [ 0  4  0]\n",
       "[ 0  0  4], [ 0  0 -3]\n",
       ")"
      ]
     },
     "execution_count": 91,
     "metadata": {},
     "output_type": "execute_result"
    }
   ],
   "source": [
    "G = Matrix([\n",
    "    [-3, 0, 0],\n",
    "    [0, -3, 0],\n",
    "    [0, 0, 4]\n",
    "])\n",
    "H = Matrix([\n",
    "    [4, 0, 0],\n",
    "    [0, 4, 0],\n",
    "    [0, 0, -3]\n",
    "])\n",
    "G,H"
   ]
  },
  {
   "cell_type": "markdown",
   "id": "debc383e",
   "metadata": {},
   "source": [
    "On a retrouvé deux matrices qui ont pour valeurs propres $\\{-3, 4\\}$. On peut donc en déduire que toutes les matrices de la classe d'équivalence seront de la forme $P^{-1}GP \\lor P^{-1}HP, P \\in GL_5(\\mathbb R)$"
   ]
  }
 ],
 "metadata": {
  "kernelspec": {
   "display_name": "SageMath 9.5",
   "language": "sage",
   "name": "sagemath"
  },
  "language_info": {
   "codemirror_mode": {
    "name": "ipython",
    "version": 3
   },
   "file_extension": ".py",
   "mimetype": "text/x-python",
   "name": "python",
   "nbconvert_exporter": "python",
   "pygments_lexer": "ipython3",
   "version": "3.10.12"
  }
 },
 "nbformat": 4,
 "nbformat_minor": 5
}
